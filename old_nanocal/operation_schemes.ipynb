{
 "cells": [
  {
   "cell_type": "markdown",
   "metadata": {},
   "source": [
    "### Operation scheme and notes"
   ]
  },
  {
   "cell_type": "markdown",
   "metadata": {},
   "source": [
    "<img src='hardware_scheme.png' width=600/>"
   ]
  },
  {
   "cell_type": "markdown",
   "metadata": {},
   "source": [
    "**ADclck** = Sampling rate  \n",
    "#### channels to read:  \n",
    "```\n",
    "  channels[0] = 0; //Uref\n",
    "  channels[1] = 1; //Umod\n",
    "  channels[2] = 4; //Utpl\n",
    "  channels[3] = 5; //Uhtr (R)\n",
    "  channels[4] = 3; //Uaux\n",
    "//  channels[5] = 5; //Uabs\n",
    "```\n",
    "#### gain and flag for each channel to read:  \n",
    "```\n",
    "gainlist[7]={1.0,2.0,5.0,10.0,20.0,50.0,100.0}; //the numbers are not like in GUI!!  \n",
    "...\n",
    "     gains[iw] = DgainDbd3kX1; //gain of X1\n",
    "     flags[iw] = DafAnalog|DafBipolar|DafSettle5us; //select Bipolar mode  !!!!!!!!!!!\n",
    "```"
   ]
  },
  {
   "cell_type": "markdown",
   "metadata": {},
   "source": [
    "---\n",
    "\n",
    "### Fast heating mode"
   ]
  },
  {
   "cell_type": "markdown",
   "metadata": {},
   "source": [
    "#### Make button clicked:  \n",
    "\n",
    "```void __fastcall TForm1::BitBtn10Click(TObject *Sender)```\n",
    "\n",
    "reads all cells and generates temperature profile into ```AWbufTref ```\n",
    "copy it to ```AWbufT```  \n",
    "\n",
    "converts it to voltage: ```AWbuf[i] = TempToVoltage(AWbufTref[i])```"
   ]
  },
  {
   "cell_type": "markdown",
   "metadata": {},
   "source": [
    "#### Arm button clicked  \n",
    "Puts interface into \"waiting\" mode  \n",
    "Changes offset to 0.1 if it is 0 and stores it into ```Goff```  \n",
    "```counts = buffsize```  \n",
    "Opens graph panel  \n",
    "```pulseshoot(u0, n1, u1, n2, u2, counts)```\n"
   ]
  },
  {
   "cell_type": "markdown",
   "metadata": {},
   "source": [
    "#### Start/Stop button clicked\n",
    "```fastheatrun()```"
   ]
  },
  {
   "cell_type": "markdown",
   "metadata": {},
   "source": [
    "#### Fastheatrun function  \n",
    "Applies 4.5 volts on trigger channel  \n",
    "```VoltGen(2,4.5)```  \n",
    "  \n",
    "...  \n",
    "Launches acquisition with respect to DAC signal in trigger mode - different for python library  \n",
    "...\n",
    "\n",
    "stores data:  \n",
    "```overload = UnpackData();```\n",
    "\n",
    "Uref is the applied voltage, that had been sent to the 1st channel:  \n",
    "```for(i=0;i<buffsize;i++) PulseRef[i] = ADCdata4disp[0][i];```  \n",
    "```resultdata[i].Uhtr = PulseRef[i+10]; //ref signal```  \n",
    "\n",
    "Packing the resultsdata:  \n",
    "```resultdata[i].time = i*1000./ADclck;   //time ms```  \n",
    "```resultdata[i].amplitude = ADCdata[2][i+10]+Taux; //amplitude lr```  \n",
    "```resultdata[i].phase = 0.;```  \n",
    "```resultdata[i].Uhtr = PulseRef[i+10]; //ref signal```  \n",
    "```resultdata[i].Ttpl = ADCdata[1][i+10]; //amplitude hr, overloaded```  \n",
    "```Ih = ADCdata[0][i+10]*ihtrk+ihtro;```  \n",
    "```if (Ih!=0.) Rhtr = (ADCdata[3][i+10]-ADCdata[0][i+10]*1000.+uhtro)*uhtrk / Ih;```  \n",
    "```resultdata[i].Thtr = thtrk1 + thtrk2*(Rhtr+Rhcorr) + thtrk3*(Rhtr+Rhcorr)*(Rhtr+Rhcorr); // Thtr temp```  \n",
    "```resultdata[i].Taux = Taux;```  \n",
    "\n",
    "Saves the data  \n",
    "**time(ms)**  \n",
    "```resultdata[i].time = i*1000./ADclck //time ms```  \n",
    "**ttemp**  \n",
    "```resultdata[i].amplitude = ADCdata[2][i+10]+Taux; //amplitude lr```  \n",
    "**ttemp-fit**  \n",
    "```resultdata[i].phase = 0.;```  \n",
    "**ttemp-hr**  \n",
    "```resultdata[i].Ttpl = ADCdata[1][i+10]; //amplitude hr, overloaded```  \n",
    "**tRef**  \n",
    "```PulseRef[i] = ADCdata4disp[0][i];``` - voltage, corrected to heatersafevoltage  \n",
    "```resultdata[i].Uhtr = PulseRef[i+10]; //ref signal```  \n",
    "**tIhtr**      \n",
    "0, cannot find in code where it is set to 0, but it i 0 for sure  \n",
    "**tThtr**  \n",
    "```Ih = ADCdata[0][i+10]*ihtrk+ihtro;```  \n",
    "```if (Ih!=0.) Rhtr = (ADCdata[3][i+10]-ADCdata[0][i+10]*1000.+uhtro)*uhtrk / Ih;```  \n",
    "```resultdata[i].Thtr = thtrk1 + thtrk2*(Rhtr+Rhcorr) + thtrk3*(Rhtr+Rhcorr)*(Rhtr+Rhcorr); // Thtr temp```  \n",
    "*Rhcorr:*  \n",
    "```  if (DoRhcorr)\n",
    "  {\n",
    "    if (Rhtr!=0.)\n",
    "    {\n",
    "      for( iit=0; iit<1000; iit++)\n",
    "      {\n",
    "        Thtr = thtrk1 + thtrk2*(Rhtr+Rhcorr) + thtrk3*(Rhtr+Rhcorr)*(Rhtr+Rhcorr);\n",
    "        iterr = Ttpl+Taux-Thtr;\n",
    "        if (fabs(iterr)<0.01) break;\n",
    "        if (fabs(iterr)>10000.)\n",
    "        {\n",
    "           Rhcorr=0.;\n",
    "           break;\n",
    "        }\n",
    "        Rhcorr += iterr*0.1;\n",
    "      }\n",
    "    }\n",
    "```\n",
    "**-----**    \n",
    "0, cannot find in code where it is set to 0, but it i 0 for sure  \n",
    "**tTaux**  \n",
    "```resultdata[i].Taux = Taux;```  "
   ]
  },
  {
   "cell_type": "markdown",
   "metadata": {},
   "source": [
    "#### Pulseshoot function  \n",
    "```void pulseshoot(double u0, DWORD n1, double u1, DWORD n2, double u2, DWORD counts)```  \n",
    "Checks each voltage point with heater safe voltage  \n",
    "```iampl = (DWORD)(65535 * (AWbuf[i]+10.)/20.);```  \n",
    "```bufferout2[i]= iampl;```  \n",
    "Draws the profile on graph panel  \n",
    "  \n",
    "Sets mode for channels (0: Uref, 1:Uguard, 2:Trigger)  \n",
    "```daqDacSetOutputMode(dhandle, DddtLocal, 0, DdomVoltage);\n",
    "daqDacSetOutputMode(dhandle, DddtLocal, 1, DdomStaticWave);\n",
    "daqDacSetOutputMode(dhandle, DddtLocal, 2, DdomVoltage);```  \n",
    "\n",
    "For Uref loads voltage profile from ```bufferout2```:  \n",
    "```daqDacWaveSetClockSource(dhandle, DddtLocal, 1, DdcsAdcClock);\n",
    "daqDacWaveSetMode(dhandle, DddtLocal, 1, DdwmNShot, counts);\n",
    "daqDacWaveSetUserWave(dhandle, DddtLocal, 1);\n",
    "daqDacWaveSetBuffer(dhandle, DddtLocal, 1, bufferout2, counts, DdtmUserBuffer);\n",
    "daqDacWaveSetTrig(dhandle, DddtLocal, 1, DdtsImmediate, 0);```\n",
    "\n",
    "```daqDacWaveArm(dhandle, DddtLocal);```  \n",
    "  \n",
    "Set Goff voltage on 0 channel - Utpl!!!  \n",
    "```ioffset = (DWORD)(65535 * (Goff+10.)/20.);\n",
    "daqDacWt(dhandle, DddtLocal, 0, ioffset);```  \n",
    "\n",
    "Sets 0 voltage to the trigger channel? not sure.. valdaq2 is used only in VlotGen function. After clicking 'On' button it is called only once and sets channel 2 to 0  \n",
    "```daqDacWt(dhandle, DddtLocal, 2, valdaq2);```"
   ]
  },
  {
   "cell_type": "markdown",
   "metadata": {},
   "source": [
    "#### TempToVoltage function \n",
    "```double TempToVoltage(double t)```\n",
    "Cuts values below zero and above heater safe voltage  \n",
    "Searches the nearest Voltage value to the input value on the Voltage-Temperature curve. It uses ```VoltageToTemp``` function to calculate some voltage, calculates the difference from input value and devides it by 300. Repeat it again until the difference is less than 0.005."
   ]
  },
  {
   "cell_type": "markdown",
   "metadata": {},
   "source": [
    "#### VoltageToTemp function  \n",
    "```double VoltageToTemp(double v)```  \n",
    "Converts voltage to temperture Theater(Uheater) with respect to calibration:  \n",
    "```itk2*v + itk3*v^2 + itk4*v^3```  \n",
    "Cuts negative values  "
   ]
  },
  {
   "cell_type": "markdown",
   "metadata": {},
   "source": [
    "#### UnpackData function  \n",
    "Applies scale and offset for each channel:  \n",
    "```ADCdata[ich][i] = bufferin[i*chancount+ich]*scale - offset;```  \n",
    "\n",
    "\n",
    "Unpacks the buffer into ADCdata by channels  \n",
    "**Some 121 and 11 magic**????   \n",
    "  \n",
    "```ADCdata[1][i] = ADCdata[1][i]/121.*1000;  //Umod mV```  \n",
    "```ADCdata[2][i] = ADCdata[2][i]/11.*1000.;  //Utpl *11 mV```    \n",
    "```ADCdata[3][i] = ADCdata[3][i]*1000.;      //Uhtr mV```  \n",
    "  \n",
    "Than goes a lot of code to calculate average values for each of periods and displaying it in GUI.  \n",
    "More important: it launches ``` TempRun() ```\n"
   ]
  },
  {
   "cell_type": "markdown",
   "metadata": {},
   "source": [
    "#### Notes about calibration\n",
    "```Rhcorr``` and ```Rhdcorr``` are to be read from calibration file. When button >0< is pressed, the calibration file is being overwritten with new coefficients.  \n",
    "```  if (DoRhcorr)\n",
    "  {\n",
    "    if (Rhtr!=0.)\n",
    "    {\n",
    "      for( iit=0; iit<1000; iit++)\n",
    "      {\n",
    "        Thtr = thtrk1 + thtrk2*(Rhtr+Rhcorr) + thtrk3*(Rhtr+Rhcorr)*(Rhtr+Rhcorr);\n",
    "        iterr = Ttpl+Taux-Thtr;\n",
    "        if (fabs(iterr)<0.01) break;\n",
    "        if (fabs(iterr)>10000.)\n",
    "        {\n",
    "           Rhcorr=0.;\n",
    "           break;\n",
    "        }\n",
    "        Rhcorr += iterr*0.1;\n",
    "      }\n",
    "    }\n",
    "```"
   ]
  },
  {
   "cell_type": "markdown",
   "metadata": {},
   "source": []
  },
  {
   "cell_type": "code",
   "execution_count": null,
   "metadata": {},
   "outputs": [],
   "source": []
  },
  {
   "cell_type": "code",
   "execution_count": null,
   "metadata": {},
   "outputs": [],
   "source": []
  },
  {
   "cell_type": "code",
   "execution_count": null,
   "metadata": {},
   "outputs": [],
   "source": []
  }
 ],
 "metadata": {
  "interpreter": {
   "hash": "43620a15b6e053c53fc675653d181de295dfaa95e93e5803a4d3b3776608b47f"
  },
  "kernelspec": {
   "display_name": "Python 3 (ipykernel)",
   "language": "python",
   "name": "python3"
  },
  "language_info": {
   "codemirror_mode": {
    "name": "ipython",
    "version": 3
   },
   "file_extension": ".py",
   "mimetype": "text/x-python",
   "name": "python",
   "nbconvert_exporter": "python",
   "pygments_lexer": "ipython3",
   "version": "3.8.10"
  }
 },
 "nbformat": 4,
 "nbformat_minor": 2
}
